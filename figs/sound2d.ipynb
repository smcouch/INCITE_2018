{
 "cells": [
  {
   "cell_type": "code",
   "execution_count": 1,
   "metadata": {
    "collapsed": true
   },
   "outputs": [],
   "source": [
    "import numpy as np\n",
    "import scipy\n",
    "import io\n",
    "import math\n",
    "import matplotlib.pyplot as plt\n",
    "import matplotlib.cm as cm"
   ]
  },
  {
   "cell_type": "code",
   "execution_count": 2,
   "metadata": {
    "collapsed": true
   },
   "outputs": [],
   "source": [
    "Lx = 1.0\n",
    "Ly = 1.1\n",
    "ky =2.*math.pi/Ly\n",
    "kx =2.*math.pi/Lx\n",
    "L = 1.0/np.sqrt(2.)\n",
    "V = 1.291\n",
    "k = np.sqrt(kx*kx+ky*ky)"
   ]
  },
  {
   "cell_type": "code",
   "execution_count": 3,
   "metadata": {
    "collapsed": true
   },
   "outputs": [],
   "source": [
    "delx = []\n",
    "delx2 = []\n",
    "delx3 = []\n",
    "delx4 = []\n",
    "delx5 = []\n",
    "delx6 = []\n",
    "delx7 = []\n",
    "delx8 = []\n",
    "dissipation = []\n",
    "dissipation2 = []\n",
    "dissipation3 = []\n",
    "dissipation4 = []\n",
    "dissipation5 = []\n",
    "dissipation6 = []\n",
    "dissipation7 = []\n",
    "dissipation8 = []\n",
    "plot = []\n",
    "plot2 = []\n",
    "plot3 = []\n",
    "plot4 = []\n",
    "plot5 = []\n",
    "plot6 = []\n",
    "plot7 = []\n",
    "plot8 = []\n"
   ]
  },
  {
   "cell_type": "code",
   "execution_count": 5,
   "metadata": {
    "collapsed": false
   },
   "outputs": [
    {
     "name": "stdout",
     "output_type": "stream",
     "text": [
      "8 0.125 0.0076263044163\n",
      "16 0.0625 0.00135605112298\n",
      "32 0.03125 0.000206921569565\n",
      "64 0.015625 1.80730096927e-05\n",
      "128 0.0078125 2.48591261182e-06\n",
      "8 0.125 0.00539028699452\n",
      "16 0.0625 0.00069789571793\n",
      "32 0.03125 8.77423457543e-05\n",
      "64 0.015625 1.09939269264e-05\n",
      "128 0.0078125 1.37902450173e-06\n",
      "8 0.125 0.000188468203954\n",
      "16 0.0625 5.55721311651e-06\n",
      "32 0.03125 1.91456001105e-07\n",
      "64 0.015625 1.92285348381e-08\n"
     ]
    }
   ],
   "source": [
    "res = (8, 16, 32, 64, 128)\n",
    "\n",
    "for r in res:\n",
    "    filename = \"../data/sound2D_ly1.1_USM_res\"+str(r)+\".dat\"\n",
    "    f = open(filename, \"r\")\n",
    "    dx = 1./float(r)\n",
    "    delx5.append(dx)\n",
    "    time5, ekin5 = np.loadtxt(filename,usecols=(0,6),skiprows=2,unpack = True)\n",
    "    logekin5 = [math.log(y) for y in ekin5]\n",
    "    damping,b= np.polyfit(time5,logekin5,1)\n",
    "    #print r, b, damping\n",
    "    diss = -2.*damping/pow(k,2.)\n",
    "    dissipation5.append(diss)\n",
    "    plot5.append(damping)\n",
    "    print r, dx, diss\n",
    "\n",
    "for r in res:\n",
    "    filename = \"../data/sound2D_ly1.1_GLMrk2_res\"+str(r)+\".dat\"\n",
    "    f = open(filename, \"r\")\n",
    "    dx = 1./float(r)\n",
    "    delx6.append(dx)\n",
    "    time6, ekin6 = np.loadtxt(filename,usecols=(0,6),skiprows=2,unpack = True)\n",
    "    logekin6 = [math.log(y) for y in ekin6]\n",
    "    damping,b= np.polyfit(time6,logekin6,1)\n",
    "    #print r, b, damping\n",
    "    diss = -2.*damping/pow(k,2.)\n",
    "    dissipation6.append(diss)\n",
    "    plot6.append(damping)\n",
    "    print r, dx, diss\n",
    "\n",
    "res = (8, 16, 32, 64)#, 128)#, 256)#, 512, 1024)\n",
    "for r in res:\n",
    "    filename = \"../data/sound2D_ly1.1_Weno5rk2_res\"+str(r)+\".dat\"\n",
    "    f = open(filename, \"r\")\n",
    "    dx = 1./float(r)\n",
    "    delx7.append(dx)\n",
    "    time7, ekin7 = np.loadtxt(filename,usecols=(0,6),skiprows=2,unpack = True)\n",
    "    logekin7 = [math.log(y) for y in ekin7]\n",
    "    damping,b= np.polyfit(time7,logekin7,1)\n",
    "    #print r, b, damping\n",
    "    diss = -2.*damping/pow(k,2.)\n",
    "    dissipation7.append(diss)\n",
    "    plot7.append(damping)\n",
    "    print r, dx, diss"
   ]
  },
  {
   "cell_type": "code",
   "execution_count": 6,
   "metadata": {
    "collapsed": false
   },
   "outputs": [
    {
     "name": "stdout",
     "output_type": "stream",
     "text": [
      "2.93954166263 1.6526358858\n",
      "2.98532293452 1.05555028932\n",
      "4.46356308583 0.363732276991\n"
     ]
    }
   ],
   "source": [
    "lndelx5 = [math.log(y) for y in delx5]\n",
    "lndiss5 = [math.log(x) for x in dissipation5]\n",
    "m,b = np.polyfit(lndelx5,lndiss5,1)\n",
    "#print m,b\n",
    "fit_tot = math.exp(b)*(math.pow(L,(m-1))/V)\n",
    "print m,fit_tot\n",
    "\n",
    "lndelx6 = [math.log(y) for y in delx6]\n",
    "lndiss6 = [math.log(x) for x in dissipation6]\n",
    "m,b = np.polyfit(lndelx6,lndiss6,1)\n",
    "#print m,b\n",
    "fit_tot = math.exp(b)*(math.pow(L,(m-1))/V)\n",
    "print m,fit_tot\n",
    "\n",
    "lndelx7 = [math.log(y) for y in delx7]\n",
    "lndiss7 = [math.log(x) for x in dissipation7]\n",
    "m,b = np.polyfit(lndelx7,lndiss7,1)\n",
    "#print m,b\n",
    "fit_tot = math.exp(b)*(math.pow(L,(m-1))/V)\n",
    "print m,fit_tot"
   ]
  },
  {
   "cell_type": "code",
   "execution_count": 14,
   "metadata": {
    "collapsed": false
   },
   "outputs": [],
   "source": [
    "logdelx5 = [math.log10(y) for y in delx5]\n",
    "logdiss5 = [math.log10(y) for y in dissipation5]\n",
    "logdelx6 = [math.log10(y) for y in delx6]\n",
    "logdiss6 = [math.log10(y) for y in dissipation6]\n",
    "logdelx7 = [math.log10(y) for y in delx7]\n",
    "logdiss7 = [math.log10(y) for y in dissipation7]"
   ]
  },
  {
   "cell_type": "code",
   "execution_count": 23,
   "metadata": {
    "collapsed": false
   },
   "outputs": [
    {
     "data": {
      "image/png": "[encoded data removed]",
      "text/plain": [
       "<matplotlib.figure.Figure at 0x10a8afcd0>"
      ]
     },
     "metadata": {},
     "output_type": "display_data"
    }
   ],
   "source": [
    "lgdelx = np.linspace(-5,-0.5,20)\n",
    "\n",
    "plt.figure(1)\n",
    "colors = iter(cm.rainbow(np.linspace(0, 10, 10)))\n",
    "plt.xlabel(r'log $\\Delta$ x')\n",
    "plt.ylabel(r'log (4/3 v$_{*}$+$\\xi_{*}$)')\n",
    "plt.scatter(logdelx5, logdiss5, color = 'k', label = 'USM')\n",
    "y = [3.*dx+0.5915 for dx in lgdelx]\n",
    "plt.plot(lgdelx,y, color = 'k')\n",
    "plt.scatter(logdelx6, logdiss6, color = 'r', label = 'Spark GLM')\n",
    "y = [3.*dx+0.44088 for dx in lgdelx]\n",
    "plt.plot(lgdelx,y, color = 'r')\n",
    "plt.scatter(logdelx7, logdiss7, color = 'c', label = 'Spark Weno5')\n",
    "y = [5*dx+0.7906 for dx in lgdelx]\n",
    "plt.plot(lgdelx,y, color = 'c')\n",
    "plt.legend(loc = 'lower right',frameon = False)\n",
    "plt.text(-2.25,-5,r'$3^{rd}$-order', color = 'r')\n",
    "plt.text(-2.1,-8,r'$5^{th}$-order',color = 'c')\n",
    "plt.axis([-2.5,-0.5,-10,-2])\n",
    "plt.savefig('sound2D.pdf', orientation = 'landscape', format = None)\n",
    "plt.show()\n"
   ]
  },
  {
   "cell_type": "code",
   "execution_count": null,
   "metadata": {
    "collapsed": true
   },
   "outputs": [],
   "source": []
  }
 ],
 "metadata": {
  "kernelspec": {
   "display_name": "Python 2",
   "language": "python",
   "name": "python2"
  },
  "language_info": {
   "codemirror_mode": {
    "name": "ipython",
    "version": 2
   },
   "file_extension": ".py",
   "mimetype": "text/x-python",
   "name": "python",
   "nbconvert_exporter": "python",
   "pygments_lexer": "ipython2",
   "version": "2.7.13"
  }
 },
 "nbformat": 4,
 "nbformat_minor": 2
}
