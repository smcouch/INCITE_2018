{
 "cells": [
  {
   "cell_type": "code",
   "execution_count": 1,
   "metadata": {
    "collapsed": true
   },
   "outputs": [],
   "source": [
    "import numpy as np\n",
    "import scipy\n",
    "import io\n",
    "import math\n",
    "import matplotlib.pyplot as plt\n",
    "import matplotlib.cm as cm"
   ]
  },
  {
   "cell_type": "code",
   "execution_count": 2,
   "metadata": {
    "collapsed": true
   },
   "outputs": [],
   "source": [
    "k =2.*math.pi\n",
    "L = 1.0\n",
    "V = 1.291\n",
    "\n",
    "delx = []\n",
    "delx2 = []\n",
    "delx3 = []\n",
    "dissipation = []\n",
    "dissipation2 = []\n",
    "dissipation3 = []\n",
    "plot = []\n",
    "plot2 = []\n",
    "plot3 = []\n"
   ]
  },
  {
   "cell_type": "code",
   "execution_count": 4,
   "metadata": {
    "collapsed": false
   },
   "outputs": [
    {
     "name": "stdout",
     "output_type": "stream",
     "text": [
      "8 0.125 0.0114035263152\n",
      "16 0.0625 0.00148816065537\n",
      "32 0.03125 0.00038013258089\n",
      "64 0.015625 1.07371850315e-05\n"
     ]
    }
   ],
   "source": [
    "res = (8, 16, 32, 64)#, 128, 256)#, 512, 1024)\n",
    "for r in res:\n",
    "    filename = \"../data/magson_GLMrk2_res\"+str(r)+\".dat\"\n",
    "    f = open(filename, \"r\")\n",
    "    dx = 1./float(r)\n",
    "    delx.append(dx)\n",
    "    time, ekin, etot = np.loadtxt(filename,usecols=(0,6,7),skiprows=2,unpack=True)\n",
    "    logekin = [math.log(y) for y in ekin]\n",
    "    damping,b= np.polyfit(time,logekin,1)\n",
    "    diss = -2.*damping/k\n",
    "    dissipation.append(diss)\n",
    "    plot.append(damping)\n",
    "    print r, dx, diss\n"
   ]
  },
  {
   "cell_type": "code",
   "execution_count": 5,
   "metadata": {
    "collapsed": false
   },
   "outputs": [
    {
     "name": "stdout",
     "output_type": "stream",
     "text": [
      "8 0.125 0.0540881753686\n",
      "16 0.0625 0.0113275144071\n"
     ]
    }
   ],
   "source": [
    "res = (8, 16)# 32, 64, 128, 256)#, 512, 1024)\n",
    "for r in res:\n",
    "    filename = \"../data/magson_USM_res\"+str(r)+\".dat\"\n",
    "    f = open(filename, \"r\")\n",
    "    dx = 1./float(r)\n",
    "    delx2.append(dx)\n",
    "    time2, ekin2 = np.loadtxt(filename,usecols=(0,6),skiprows=2,unpack=True)\n",
    "    logekin2 = [math.log(y) for y in ekin2]\n",
    "    damping,b= np.polyfit(time2,logekin2,1)\n",
    "    diss = -2.*damping/k\n",
    "    dissipation2.append(diss)\n",
    "    plot2.append(damping)\n",
    "    print r, dx, diss"
   ]
  },
  {
   "cell_type": "code",
   "execution_count": 6,
   "metadata": {
    "collapsed": false
   },
   "outputs": [
    {
     "name": "stdout",
     "output_type": "stream",
     "text": [
      "3.21269011686 8.93767999752\n",
      "2.25548190411 4.56120101409\n"
     ]
    }
   ],
   "source": [
    "lndelx = [math.log(y) for y in delx]\n",
    "lndiss = [math.log(x) for x in dissipation]\n",
    "m,b = np.polyfit(lndelx,lndiss,1)\n",
    "fit_tot = math.exp(b)*(math.pow(L,(m-1))/V)\n",
    "print m,fit_tot\n",
    "\n",
    "lndelx2 = [math.log(y) for y in delx2]\n",
    "lndiss2 = [math.log(x) for x in dissipation2]\n",
    "m,b = np.polyfit(lndelx2,lndiss2,1)\n",
    "fit_tot = math.exp(b)*(math.pow(L,(m-1))/V)\n",
    "print m,fit_tot"
   ]
  },
  {
   "cell_type": "code",
   "execution_count": 7,
   "metadata": {
    "collapsed": false
   },
   "outputs": [
    {
     "name": "stdout",
     "output_type": "stream",
     "text": [
      "[-0.9030899869919435, -1.2041199826559248] [-1.2668976689682285, -1.9458653767822474]\n"
     ]
    }
   ],
   "source": [
    "logdelx = [math.log10(y) for y in delx]\n",
    "logdiss = [math.log10(y) for y in dissipation]\n",
    "logdelx2 = [math.log10(y) for y in delx2]\n",
    "logdiss2 = [math.log10(y) for y in dissipation2]\n",
    "print logdelx2, logdiss2"
   ]
  },
  {
   "cell_type": "code",
   "execution_count": 13,
   "metadata": {
    "collapsed": false
   },
   "outputs": [
    {
     "data": {
      "image/png": "[encoded data removed]",
      "text/plain": [
       "<matplotlib.figure.Figure at 0x111a770d0>"
      ]
     },
     "metadata": {},
     "output_type": "display_data"
    }
   ],
   "source": [
    "lgdelx = np.linspace(-5,-0.5,20)\n",
    "\n",
    "plt.figure(1)\n",
    "plt.xlabel(r'$\\Delta$ x')\n",
    "plt.ylabel(r'4/3 v$_{*}$+$\\xi_{*}$')\n",
    "plt.scatter(logdelx2, logdiss2, color = 'k', label = 'USM')\n",
    "y = [3.*dx+0.76637 for dx in lgdelx]\n",
    "plt.plot(lgdelx,y, color = 'b')\n",
    "plt.scatter(logdelx, logdiss, color = 'b', label = 'Spark GLM')\n",
    "y = [3.*dx+1.44237 for dx in lgdelx]\n",
    "plt.plot(lgdelx, y, color = 'k')\n",
    "plt.legend(loc = 'lower right',frameon = False)\n",
    "plt.text(-2.25,-4,r'$3^{rd}$-order', color = 'k')\n",
    "plt.axis([-2.5,-0.5,-8,0])\n",
    "plt.savefig('magson.pdf', orientation = 'landscape', format = None)\n",
    "plt.show()\n"
   ]
  },
  {
   "cell_type": "code",
   "execution_count": null,
   "metadata": {
    "collapsed": true
   },
   "outputs": [],
   "source": []
  }
 ],
 "metadata": {
  "kernelspec": {
   "display_name": "Python 2",
   "language": "python",
   "name": "python2"
  },
  "language_info": {
   "codemirror_mode": {
    "name": "ipython",
    "version": 2
   },
   "file_extension": ".py",
   "mimetype": "text/x-python",
   "name": "python",
   "nbconvert_exporter": "python",
   "pygments_lexer": "ipython2",
   "version": "2.7.13"
  }
 },
 "nbformat": 4,
 "nbformat_minor": 2
}
